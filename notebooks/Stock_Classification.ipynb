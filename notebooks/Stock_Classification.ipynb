{
 "cells": [
  {
   "cell_type": "markdown",
   "id": "b942ecc1",
   "metadata": {},
   "source": [
    "# 將股票進行行業分類 Categorize Stocks"
   ]
  },
  {
   "cell_type": "code",
   "execution_count": 9,
   "id": "aaef9c19",
   "metadata": {},
   "outputs": [
    {
     "name": "stdout",
     "output_type": "stream",
     "text": [
      "Save successfully.\n"
     ]
    }
   ],
   "source": [
    "# Extract industry categories for each stock from stock data\n",
    "import pandas as pd\n",
    "import re\n",
    "\n",
    "file_path = r\"C:\\Users\\Sydney\\Desktop\\KCL\\Undergraduate\\Year3\\Final Individual Project\\Data_Collection\\Stock_Price\\2010-01.xls\"\n",
    "df = pd.read_excel(file_path)\n",
    "\n",
    "# Initialize the current industry category as None\n",
    "current_category = None\n",
    "\n",
    "# Initialize an empty dictionary to store stock codes and their corresponding industry categories\n",
    "stocks_with_categories = {}\n",
    "\n",
    "# Iterate through each row in the Excel file\n",
    "for index, row in df.iterrows():\n",
    "    # Check if the first column contains an industry category identifier (e.g., number + \"工業類\")\n",
    "    if pd.notnull(row[0]) and \"類\" in str(row[1]):\n",
    "        current_category = row[1]  # Update the current industry category\n",
    "    elif pd.notnull(row[1]) and \"全額分盤\" in str(row[1]):\n",
    "        current_category = \"全額分盤\" # Special category for \"Full Delivery Stocks\"\n",
    "    # If the first column is a stock code (integer type), add it and its name under the current industry category\n",
    "    elif pd.notnull(row[0]) and re.match(r\"\\d+$\", str(row[0]).strip()) and current_category:\n",
    "        stocks_with_categories[int(row[0])] = current_category\n",
    "\n",
    "# Create a DataFrame\n",
    "stocks_df = pd.DataFrame(list(stocks_with_categories.items()), columns=['股票代碼', '行業類別'])\n",
    "\n",
    "csv_file_name = \"Stock_Categories.csv\"\n",
    "stocks_df.to_csv(csv_file_name, index=False, encoding='utf-8-sig')\n",
    "print(\"Save successfully.\")\n"
   ]
  },
  {
   "cell_type": "code",
   "execution_count": 10,
   "id": "6b85b0ea",
   "metadata": {},
   "outputs": [
    {
     "name": "stdout",
     "output_type": "stream",
     "text": [
      "2412 not found matching category.\n",
      "     股票代碼    行業類別\n",
      "0    1102   水泥工業類\n",
      "1    1216   食品工業類\n",
      "2    1301   塑膠工業類\n",
      "3    1303   塑膠工業類\n",
      "4    1305   塑膠工業類\n",
      "..    ...     ...\n",
      "121  2312  其他電子業類\n",
      "122  2371  其他電子業類\n",
      "123  9904     其他類\n",
      "124  9907     其他類\n",
      "125  9945     其他類\n",
      "\n",
      "[126 rows x 2 columns]\n",
      "Save successfully.\n"
     ]
    }
   ],
   "source": [
    "# Filtering Categorized Stocks for Final Portfolio Analysis\n",
    "import pandas as pd\n",
    "import numpy as np\n",
    "\n",
    "stock_categories_path = r\"C:\\Users\\Sydney\\Desktop\\KCL\\Undergraduate\\Year3\\Final Individual Project\\Data_Collection\\Stock_Price\\Stock_Categories.csv\"\n",
    "stock_categories_df = pd.read_csv(stock_categories_path)\n",
    "\n",
    "stock_info_path = r\"C:\\Users\\Sydney\\Desktop\\KCL\\Undergraduate\\Year3\\Final Individual Project\\Data_Collection\\Status_of_TWSE\\per_stock_data\\Liquidity_Filtered_Stocks.csv\"\n",
    "stock_info_df = pd.read_csv(stock_info_path)\n",
    "\n",
    "filtered_stock_code = stock_info_df['股票代碼']\n",
    "# print(filtered_stock_code)\n",
    "\n",
    "stock_code_list = []\n",
    "stock_category_list = []\n",
    "\n",
    "for each_stock_code in filtered_stock_code:\n",
    "    category = stock_categories_df.loc[stock_categories_df['股票代碼'] == each_stock_code, '行業類別']\n",
    "    if not category.empty:\n",
    "        stock_code_list.append(each_stock_code)\n",
    "        stock_category_list.append(category.values[0])\n",
    "    else:\n",
    "        print(f\"{each_stock_code} not found matching category.\")\n",
    "        # 唯一無法查詢到的股票代碼是2412 查詢後 2412為\"中華電\" 屬於27通信網路業\n",
    "        \n",
    "stocks_df = pd.DataFrame({\n",
    "    '股票代碼': stock_code_list,\n",
    "    '行業類別': stock_category_list\n",
    "})\n",
    "\n",
    "print(stocks_df)\n",
    "\n",
    "save_path = r\"C:\\Users\\Sydney\\Desktop\\KCL\\Undergraduate\\Year3\\Final Individual Project\\Data_Collection\\Status_of_TWSE\\per_stock_data\\Categorized_Stock.csv\"\n",
    "stocks_df.to_csv(save_path, index=False, encoding='utf-8-sig', sep=',')\n",
    "print(\"Save successfully.\")"
   ]
  },
  {
   "cell_type": "code",
   "execution_count": null,
   "id": "ebed0bf5",
   "metadata": {},
   "outputs": [],
   "source": []
  }
 ],
 "metadata": {
  "kernelspec": {
   "display_name": "Python 3 (ipykernel)",
   "language": "python",
   "name": "python3"
  },
  "language_info": {
   "codemirror_mode": {
    "name": "ipython",
    "version": 3
   },
   "file_extension": ".py",
   "mimetype": "text/x-python",
   "name": "python",
   "nbconvert_exporter": "python",
   "pygments_lexer": "ipython3",
   "version": "3.11.5"
  }
 },
 "nbformat": 4,
 "nbformat_minor": 5
}
