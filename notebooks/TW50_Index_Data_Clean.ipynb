{
 "cells": [
  {
   "cell_type": "code",
   "execution_count": 16,
   "id": "6e0c56c6",
   "metadata": {},
   "outputs": [],
   "source": [
    "# Simulate reading from a file\n",
    "original_text = \"\"\"日期, 臺灣50指數, 臺灣50報酬指數\n",
    "2023-01-01, 10000, 15000\"\"\"\n",
    "\n",
    "# The translations from Chinese to English\n",
    "translations = {\n",
    "    \"臺灣50指數歷史資料\": \"Taiwan 50 Index Historical Data\",\n",
    "    \"日期\": \"Date\",\n",
    "    \"臺灣50指數\": \"Taiwan 50 Index\",\n",
    "    \"臺灣50報酬指數\": \"Taiwan 50 Total Return Index\"\n",
    "}\n",
    "\n",
    "# Function to replace text based on the translations dictionary\n",
    "def translate_text(text, translations):\n",
    "    for key, value in translations.items():\n",
    "        text = text.replace(key, value)\n",
    "    return text"
   ]
  },
  {
   "cell_type": "code",
   "execution_count": 17,
   "id": "c18d5df8",
   "metadata": {},
   "outputs": [
    {
     "name": "stdout",
     "output_type": "stream",
     "text": [
      "File modifications have been saved.\n"
     ]
    }
   ],
   "source": [
    "import os\n",
    "\n",
    "# Set the directory path where files are located\n",
    "directory_path = \"C:/Users/Sydney/Desktop/KCL/Undergraduate/Year3/Final Individual Project/Data_Collection/TW50_index\"\n",
    "# Change the current working directory to the specified path\n",
    "os.chdir(directory_path)\n",
    "\n",
    "# Starting year for the file names (which are Taiwanese year)\n",
    "start_year = 99\n",
    "# Original tite in the files to be replaced\n",
    "title = \"臺灣50指數歷史資料\"\n",
    "\n",
    "# Loop to translate all the files\n",
    "for year in range(10):\n",
    "    current_year = start_year + year\n",
    "    for month in range(1, 13): \n",
    "        # Construct file name based on the year and month\n",
    "        if month <= 9:\n",
    "            file_name = f\"TAI50I-{current_year+1911}-0{month}.csv\"\n",
    "        else:\n",
    "            file_name = f\"TAI50I-{current_year+1911}-{month}.csv\"\n",
    "        \n",
    "        try:\n",
    "            # Open the file for reading with Big5 encoding\n",
    "            with open(file_name, \"r\", encoding=\"big5\") as file:\n",
    "                text = file.read()\n",
    "\n",
    "            # Traslation function here\n",
    "            text = translate_text(text, translations)\n",
    "\n",
    "            # Construct the edited file name\n",
    "            edited_file_name = file_name.replace(\".csv\", \"_edited.csv\")\n",
    "            # Save the translated text to a new file with UTF-8 encoding\n",
    "            with open(edited_file_name, \"w\", encoding=\"utf-8\") as file:\n",
    "                file.write(text)\n",
    "        except FileNotFoundError:\n",
    "            # Handle the case where the file could not be found\n",
    "            print(f\"File not found: {file_name}\")\n",
    "            \n",
    "        except Exception as e:\n",
    "            # Handle other exceptions that may occur\n",
    "            print(f\"An error occurred with file {file_name}: {e}\")\n",
    "\n",
    "print(\"File modifications have been saved.\")"
   ]
  },
  {
   "cell_type": "code",
   "execution_count": null,
   "id": "76638499",
   "metadata": {},
   "outputs": [],
   "source": []
  }
 ],
 "metadata": {
  "kernelspec": {
   "display_name": "Python 3 (ipykernel)",
   "language": "python",
   "name": "python3"
  },
  "language_info": {
   "codemirror_mode": {
    "name": "ipython",
    "version": 3
   },
   "file_extension": ".py",
   "mimetype": "text/x-python",
   "name": "python",
   "nbconvert_exporter": "python",
   "pygments_lexer": "ipython3",
   "version": "3.11.5"
  }
 },
 "nbformat": 4,
 "nbformat_minor": 5
}
